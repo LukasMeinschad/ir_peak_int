{
 "cells": [
  {
   "cell_type": "markdown",
   "id": "7e8d6fb6",
   "metadata": {},
   "source": [
    "# Development Visualization of Molecular Structures\n"
   ]
  },
  {
   "cell_type": "code",
   "execution_count": 1,
   "id": "dcf1989e",
   "metadata": {},
   "outputs": [],
   "source": [
    "import spec_tools"
   ]
  },
  {
   "cell_type": "code",
   "execution_count": 2,
   "id": "bb2df6ac",
   "metadata": {},
   "outputs": [
    {
     "data": {
      "application/vnd.jupyter.widget-view+json": {
       "model_id": "c49b7735d6424d4c8910963a7b16e93f",
       "version_major": 2,
       "version_minor": 0
      },
      "text/plain": [
       "interactive(children=(Dropdown(description='Normal Mode', options=((0.0, 0), (0.0, 1), (0.0, 2), (0.0, 3), (0.…"
      ]
     },
     "metadata": {},
     "output_type": "display_data"
    }
   ],
   "source": [
    "molecule = spec_tools.molecule.Molecule.molden_to_molecule(\"/Users/lukas/Desktop/ir_peak_int/data/h2o_dimer.molden\")\n",
    "molecule.visualize_normal_modes()"
   ]
  },
  {
   "cell_type": "code",
   "execution_count": 3,
   "id": "b6afe1e3",
   "metadata": {},
   "outputs": [
    {
     "ename": "TypeError",
     "evalue": "Molecule.__init__() got an unexpected keyword argument 'coords'",
     "output_type": "error",
     "traceback": [
      "\u001b[0;31m---------------------------------------------------------------------------\u001b[0m",
      "\u001b[0;31mTypeError\u001b[0m                                 Traceback (most recent call last)",
      "Cell \u001b[0;32mIn[3], line 1\u001b[0m\n\u001b[0;32m----> 1\u001b[0m molecule \u001b[38;5;241m=\u001b[39m \u001b[43mspec_tools\u001b[49m\u001b[38;5;241;43m.\u001b[39;49m\u001b[43mmolecule\u001b[49m\u001b[38;5;241;43m.\u001b[39;49m\u001b[43mMolecule\u001b[49m\u001b[38;5;241;43m.\u001b[39;49m\u001b[43mmol3d_to_molecule\u001b[49m\u001b[43m(\u001b[49m\u001b[38;5;124;43m\"\u001b[39;49m\u001b[38;5;124;43m7732-18-5-3d.sdf\u001b[39;49m\u001b[38;5;124;43m\"\u001b[39;49m\u001b[43m)\u001b[49m\n\u001b[1;32m      3\u001b[0m molecule\u001b[38;5;241m.\u001b[39mvisualize_molecule_mol3D()\n",
      "File \u001b[0;32m~/Desktop/ir_peak_int/classes/molecule.py:327\u001b[0m, in \u001b[0;36mMolecule.mol3d_to_molecule\u001b[0;34m(cls, file_path)\u001b[0m\n\u001b[1;32m    324\u001b[0m     coords\u001b[38;5;241m.\u001b[39mappend([x, y, z])\n\u001b[1;32m    326\u001b[0m \u001b[38;5;66;03m# Return coordinates atoms + mol3d\u001b[39;00m\n\u001b[0;32m--> 327\u001b[0m Molecule \u001b[38;5;241m=\u001b[39m \u001b[38;5;28;43mcls\u001b[39;49m\u001b[43m(\u001b[49m\u001b[43mname\u001b[49m\u001b[38;5;241;43m=\u001b[39;49m\u001b[38;5;124;43m\"\u001b[39;49m\u001b[38;5;124;43m3Dmol\u001b[39;49m\u001b[38;5;124;43m\"\u001b[39;49m\u001b[43m,\u001b[49m\u001b[43mcoords\u001b[49m\u001b[38;5;241;43m=\u001b[39;49m\u001b[43mcoords\u001b[49m\u001b[43m,\u001b[49m\u001b[43matoms\u001b[49m\u001b[38;5;241;43m=\u001b[39;49m\u001b[43matoms\u001b[49m\u001b[43m)\u001b[49m\n\u001b[1;32m    329\u001b[0m \u001b[38;5;28;01mwith\u001b[39;00m \u001b[38;5;28mopen\u001b[39m(file_path, \u001b[38;5;124m'\u001b[39m\u001b[38;5;124mr\u001b[39m\u001b[38;5;124m'\u001b[39m) \u001b[38;5;28;01mas\u001b[39;00m f:\n\u001b[1;32m    330\u001b[0m     file_contend \u001b[38;5;241m=\u001b[39m \u001b[38;5;124m\"\u001b[39m\u001b[38;5;124m\"\u001b[39m\n",
      "\u001b[0;31mTypeError\u001b[0m: Molecule.__init__() got an unexpected keyword argument 'coords'"
     ]
    }
   ],
   "source": [
    "molecule = spec_tools.molecule.Molecule.mol3d_to_molecule(\"7732-18-5-3d.sdf\")\n",
    "\n",
    "molecule.visualize_molecule_mol3D()"
   ]
  },
  {
   "cell_type": "markdown",
   "id": "338b319f",
   "metadata": {},
   "source": [
    "# READ IN MOLDEN FILE\n",
    "\n"
   ]
  },
  {
   "cell_type": "code",
   "execution_count": null,
   "id": "b8fc59a1",
   "metadata": {},
   "outputs": [
    {
     "data": {
      "application/vnd.jupyter.widget-view+json": {
       "model_id": "cb7c737e75e141029733bb8d29aa71a9",
       "version_major": 2,
       "version_minor": 0
      },
      "text/plain": [
       "interactive(children=(Dropdown(description='Normal Mode', options=((0.0, 0), (0.0, 1), (0.0, 2), (0.0, 3), (0.…"
      ]
     },
     "metadata": {},
     "output_type": "display_data"
    }
   ],
   "source": [
    "spec_tools.molecule.show_normal_modes(\"data/h2o_dimer.molden\")"
   ]
  },
  {
   "cell_type": "code",
   "execution_count": null,
   "id": "a3d4f709",
   "metadata": {},
   "outputs": [
    {
     "name": "stdout",
     "output_type": "stream",
     "text": [
      "[(0.0, 0), (0.0, 1), (0.0, 2), (0.0, 3), (0.0, 4), (0.0, 5), (115.22, 6), (136.38, 7), (144.93, 8), (170.84, 9), (339.1, 10), (607.55, 11), (1748.61, 12), (1779.95, 13), (4099.05, 14), (4136.83, 15), (4214.42, 16), (4232.78, 17)]\n"
     ]
    }
   ],
   "source": [
    "molecule = spec_tools.molecule.Molecule.molden_to_molecule(\"data/h2o_dimer.molden\")\n"
   ]
  }
 ],
 "metadata": {
  "kernelspec": {
   "display_name": "base",
   "language": "python",
   "name": "python3"
  },
  "language_info": {
   "codemirror_mode": {
    "name": "ipython",
    "version": 3
   },
   "file_extension": ".py",
   "mimetype": "text/x-python",
   "name": "python",
   "nbconvert_exporter": "python",
   "pygments_lexer": "ipython3",
   "version": "3.11.7"
  }
 },
 "nbformat": 4,
 "nbformat_minor": 5
}
