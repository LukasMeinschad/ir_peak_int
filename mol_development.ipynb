{
 "cells": [
  {
   "cell_type": "markdown",
   "id": "7e8d6fb6",
   "metadata": {},
   "source": [
    "# Development Visualization of Molecular Structures\n"
   ]
  },
  {
   "cell_type": "code",
   "execution_count": 1,
   "id": "dcf1989e",
   "metadata": {},
   "outputs": [],
   "source": [
    "import spec_tools"
   ]
  },
  {
   "cell_type": "code",
   "execution_count": 2,
   "id": "bb2df6ac",
   "metadata": {},
   "outputs": [
    {
     "data": {
      "application/vnd.jupyter.widget-view+json": {
       "model_id": "507c4e55637c465cbc4c31a84ffccd82",
       "version_major": 2,
       "version_minor": 0
      },
      "text/plain": [
       "interactive(children=(Dropdown(description='Normal Mode', options=((0.0, 0), (0.0, 1), (0.0, 2), (0.0, 3), (0.…"
      ]
     },
     "metadata": {},
     "output_type": "display_data"
    }
   ],
   "source": [
    "molecule = spec_tools.molecule.Molecule.molden_to_molecule(\"data/h2o_dimer.molden\")\n",
    "molecule.visualize_normal_modes(vector=False)"
   ]
  },
  {
   "cell_type": "code",
   "execution_count": 3,
   "id": "0747669e",
   "metadata": {},
   "outputs": [
    {
     "name": "stdout",
     "output_type": "stream",
     "text": [
      "------------ Symmetry Analysis ------------\n",
      "Atoms: ['O', 'H', 'H', 'O', 'H', 'H']\n",
      "Point group: Cs\n",
      "Symmetry operations: defaultdict(<class 'set'>, {0: {0}, 3: {3}, 1: {1}, 2: {2}, 4: {4, 5}})\n",
      "----------------------------------------------\n"
     ]
    }
   ],
   "source": [
    "molecule.determine_symmetry()"
   ]
  },
  {
   "cell_type": "code",
   "execution_count": 4,
   "id": "aadfd7da",
   "metadata": {},
   "outputs": [
    {
     "name": "stdout",
     "output_type": "stream",
     "text": [
      "[-0.02599676 -0.99965759  0.00297983]\n",
      "no normal vector found\n",
      "None\n"
     ]
    },
    {
     "data": {
      "application/3dmoljs_load.v0": "<div id=\"3dmolviewer_17455770180492444\"  style=\"position: relative; width: 800px; height: 400px;\">\n        <p id=\"3dmolwarning_17455770180492444\" style=\"background-color:#ffcccc;color:black\">3Dmol.js failed to load for some reason.  Please check your browser console for error messages.<br></p>\n        </div>\n<script>\n\nvar loadScriptAsync = function(uri){\n  return new Promise((resolve, reject) => {\n    //this is to ignore the existence of requirejs amd\n    var savedexports, savedmodule;\n    if (typeof exports !== 'undefined') savedexports = exports;\n    else exports = {}\n    if (typeof module !== 'undefined') savedmodule = module;\n    else module = {}\n\n    var tag = document.createElement('script');\n    tag.src = uri;\n    tag.async = true;\n    tag.onload = () => {\n        exports = savedexports;\n        module = savedmodule;\n        resolve();\n    };\n  var firstScriptTag = document.getElementsByTagName('script')[0];\n  firstScriptTag.parentNode.insertBefore(tag, firstScriptTag);\n});\n};\n\nif(typeof $3Dmolpromise === 'undefined') {\n$3Dmolpromise = null;\n  $3Dmolpromise = loadScriptAsync('https://cdnjs.cloudflare.com/ajax/libs/3Dmol/2.4.2/3Dmol-min.js');\n}\n\nvar viewer_17455770180492444 = null;\nvar warn = document.getElementById(\"3dmolwarning_17455770180492444\");\nif(warn) {\n    warn.parentNode.removeChild(warn);\n}\n$3Dmolpromise.then(function() {\nviewer_17455770180492444 = $3Dmol.createViewer(document.getElementById(\"3dmolviewer_17455770180492444\"),{backgroundColor:\"white\"});\nviewer_17455770180492444.zoomTo();\n\tviewer_17455770180492444.addModel(\"6\\n\\nO 0.06249024213759341 -0.0016909998694588735 -1.5290600355625694\\nH 0.02027218894777879 -0.00588194540752371 -0.5849370139801275\\nH -0.8325240126919567 0.025199137487551784 -1.8163655731279826\\nO -0.05501102632248545 0.0014575623749934815 1.4477474408114375\\nH 0.36634821782845295 0.7448215927635353 1.843652597708079\\nH 0.3272030540073065 -0.7604339629581085 1.8481395437263093\\n\",\"xyz\");\n\tviewer_17455770180492444.setStyle({\"sphere\": {\"scale\": 0.3}, \"stick\": {\"radius\": 0.2}});\n\tviewer_17455770180492444.addBox({\"center\": {\"x\": 1.999324054501264, \"y\": -0.05795495925929645, \"z\": -1.9998361302341447}, \"size\": {\"x\": 2, \"y\": 2, \"z\": 2}, \"color\": \"green\", \"alpha\": 0.5});\n\tviewer_17455770180492444.addBox({\"center\": {\"x\": -1.999324054501264, \"y\": 0.04603159895822744, \"z\": -2.0001460989112707}, \"size\": {\"x\": 2, \"y\": 2, \"z\": 2}, \"color\": \"green\", \"alpha\": 0.5});\n\tviewer_17455770180492444.addBox({\"center\": {\"x\": -1.999324054501264, \"y\": 0.05795495925929645, \"z\": 1.9998361302341447}, \"size\": {\"x\": 2, \"y\": 2, \"z\": 2}, \"color\": \"green\", \"alpha\": 0.5});\n\tviewer_17455770180492444.addBox({\"center\": {\"x\": 1.999324054501264, \"y\": -0.04603159895822744, \"z\": 2.0001460989112707}, \"size\": {\"x\": 2, \"y\": 2, \"z\": 2}, \"color\": \"green\", \"alpha\": 0.5});\n\tviewer_17455770180492444.addArrow({\"start\": {\"x\": 0, \"y\": 0, \"z\": 0}, \"end\": {\"x\": 1.999324054501264, \"y\": -0.05795495925929645, \"z\": -1.9998361302341447}, \"radius\": 0.1, \"color\": \"green\"});\n\tviewer_17455770180492444.addArrow({\"start\": {\"x\": 0, \"y\": 0, \"z\": 0}, \"end\": {\"x\": -1.999324054501264, \"y\": 0.04603159895822744, \"z\": -2.0001460989112707}, \"radius\": 0.1, \"color\": \"green\"});\n\tviewer_17455770180492444.addArrow({\"start\": {\"x\": 0, \"y\": 0, \"z\": 0}, \"end\": {\"x\": -1.999324054501264, \"y\": 0.05795495925929645, \"z\": 1.9998361302341447}, \"radius\": 0.1, \"color\": \"green\"});\n\tviewer_17455770180492444.addArrow({\"start\": {\"x\": 0, \"y\": 0, \"z\": 0}, \"end\": {\"x\": 1.999324054501264, \"y\": -0.04603159895822744, \"z\": 2.0001460989112707}, \"radius\": 0.1, \"color\": \"green\"});\n\tviewer_17455770180492444.addArrow({\"start\": {\"x\": 0, \"y\": 0, \"z\": 0}, \"end\": {\"x\": -0.0, \"y\": 0.005961680150534504, \"z\": 1.9999911145727078}, \"radius\": 0.1, \"color\": \"red\"});\n\tviewer_17455770180492444.addArrow({\"start\": {\"x\": 0, \"y\": 0, \"z\": 0}, \"end\": {\"x\": -1.999324054501264, \"y\": 0.05199327910876195, \"z\": -0.00015498433856298905}, \"radius\": 0.1, \"color\": \"blue\"});\n\tviewer_17455770180492444.setBackgroundColor(\"white\");\nviewer_17455770180492444.render();\n});\n</script>",
      "text/html": [
       "<div id=\"3dmolviewer_17455770180492444\"  style=\"position: relative; width: 800px; height: 400px;\">\n",
       "        <p id=\"3dmolwarning_17455770180492444\" style=\"background-color:#ffcccc;color:black\">3Dmol.js failed to load for some reason.  Please check your browser console for error messages.<br></p>\n",
       "        </div>\n",
       "<script>\n",
       "\n",
       "var loadScriptAsync = function(uri){\n",
       "  return new Promise((resolve, reject) => {\n",
       "    //this is to ignore the existence of requirejs amd\n",
       "    var savedexports, savedmodule;\n",
       "    if (typeof exports !== 'undefined') savedexports = exports;\n",
       "    else exports = {}\n",
       "    if (typeof module !== 'undefined') savedmodule = module;\n",
       "    else module = {}\n",
       "\n",
       "    var tag = document.createElement('script');\n",
       "    tag.src = uri;\n",
       "    tag.async = true;\n",
       "    tag.onload = () => {\n",
       "        exports = savedexports;\n",
       "        module = savedmodule;\n",
       "        resolve();\n",
       "    };\n",
       "  var firstScriptTag = document.getElementsByTagName('script')[0];\n",
       "  firstScriptTag.parentNode.insertBefore(tag, firstScriptTag);\n",
       "});\n",
       "};\n",
       "\n",
       "if(typeof $3Dmolpromise === 'undefined') {\n",
       "$3Dmolpromise = null;\n",
       "  $3Dmolpromise = loadScriptAsync('https://cdnjs.cloudflare.com/ajax/libs/3Dmol/2.4.2/3Dmol-min.js');\n",
       "}\n",
       "\n",
       "var viewer_17455770180492444 = null;\n",
       "var warn = document.getElementById(\"3dmolwarning_17455770180492444\");\n",
       "if(warn) {\n",
       "    warn.parentNode.removeChild(warn);\n",
       "}\n",
       "$3Dmolpromise.then(function() {\n",
       "viewer_17455770180492444 = $3Dmol.createViewer(document.getElementById(\"3dmolviewer_17455770180492444\"),{backgroundColor:\"white\"});\n",
       "viewer_17455770180492444.zoomTo();\n",
       "\tviewer_17455770180492444.addModel(\"6\\n\\nO 0.06249024213759341 -0.0016909998694588735 -1.5290600355625694\\nH 0.02027218894777879 -0.00588194540752371 -0.5849370139801275\\nH -0.8325240126919567 0.025199137487551784 -1.8163655731279826\\nO -0.05501102632248545 0.0014575623749934815 1.4477474408114375\\nH 0.36634821782845295 0.7448215927635353 1.843652597708079\\nH 0.3272030540073065 -0.7604339629581085 1.8481395437263093\\n\",\"xyz\");\n",
       "\tviewer_17455770180492444.setStyle({\"sphere\": {\"scale\": 0.3}, \"stick\": {\"radius\": 0.2}});\n",
       "\tviewer_17455770180492444.addBox({\"center\": {\"x\": 1.999324054501264, \"y\": -0.05795495925929645, \"z\": -1.9998361302341447}, \"size\": {\"x\": 2, \"y\": 2, \"z\": 2}, \"color\": \"green\", \"alpha\": 0.5});\n",
       "\tviewer_17455770180492444.addBox({\"center\": {\"x\": -1.999324054501264, \"y\": 0.04603159895822744, \"z\": -2.0001460989112707}, \"size\": {\"x\": 2, \"y\": 2, \"z\": 2}, \"color\": \"green\", \"alpha\": 0.5});\n",
       "\tviewer_17455770180492444.addBox({\"center\": {\"x\": -1.999324054501264, \"y\": 0.05795495925929645, \"z\": 1.9998361302341447}, \"size\": {\"x\": 2, \"y\": 2, \"z\": 2}, \"color\": \"green\", \"alpha\": 0.5});\n",
       "\tviewer_17455770180492444.addBox({\"center\": {\"x\": 1.999324054501264, \"y\": -0.04603159895822744, \"z\": 2.0001460989112707}, \"size\": {\"x\": 2, \"y\": 2, \"z\": 2}, \"color\": \"green\", \"alpha\": 0.5});\n",
       "\tviewer_17455770180492444.addArrow({\"start\": {\"x\": 0, \"y\": 0, \"z\": 0}, \"end\": {\"x\": 1.999324054501264, \"y\": -0.05795495925929645, \"z\": -1.9998361302341447}, \"radius\": 0.1, \"color\": \"green\"});\n",
       "\tviewer_17455770180492444.addArrow({\"start\": {\"x\": 0, \"y\": 0, \"z\": 0}, \"end\": {\"x\": -1.999324054501264, \"y\": 0.04603159895822744, \"z\": -2.0001460989112707}, \"radius\": 0.1, \"color\": \"green\"});\n",
       "\tviewer_17455770180492444.addArrow({\"start\": {\"x\": 0, \"y\": 0, \"z\": 0}, \"end\": {\"x\": -1.999324054501264, \"y\": 0.05795495925929645, \"z\": 1.9998361302341447}, \"radius\": 0.1, \"color\": \"green\"});\n",
       "\tviewer_17455770180492444.addArrow({\"start\": {\"x\": 0, \"y\": 0, \"z\": 0}, \"end\": {\"x\": 1.999324054501264, \"y\": -0.04603159895822744, \"z\": 2.0001460989112707}, \"radius\": 0.1, \"color\": \"green\"});\n",
       "\tviewer_17455770180492444.addArrow({\"start\": {\"x\": 0, \"y\": 0, \"z\": 0}, \"end\": {\"x\": -0.0, \"y\": 0.005961680150534504, \"z\": 1.9999911145727078}, \"radius\": 0.1, \"color\": \"red\"});\n",
       "\tviewer_17455770180492444.addArrow({\"start\": {\"x\": 0, \"y\": 0, \"z\": 0}, \"end\": {\"x\": -1.999324054501264, \"y\": 0.05199327910876195, \"z\": -0.00015498433856298905}, \"radius\": 0.1, \"color\": \"blue\"});\n",
       "\tviewer_17455770180492444.setBackgroundColor(\"white\");\n",
       "viewer_17455770180492444.render();\n",
       "});\n",
       "</script>"
      ]
     },
     "metadata": {},
     "output_type": "display_data"
    }
   ],
   "source": [
    "molecule.visualize_molecule_3D_coords(show_symmetry_elements=True)"
   ]
  },
  {
   "cell_type": "code",
   "execution_count": 5,
   "id": "b6afe1e3",
   "metadata": {},
   "outputs": [
    {
     "ename": "TypeError",
     "evalue": "__init__() got an unexpected keyword argument 'coords'",
     "output_type": "error",
     "traceback": [
      "\u001b[0;31m---------------------------------------------------------------------------\u001b[0m",
      "\u001b[0;31mTypeError\u001b[0m                                 Traceback (most recent call last)",
      "Cell \u001b[0;32mIn[5], line 1\u001b[0m\n\u001b[0;32m----> 1\u001b[0m molecule \u001b[38;5;241m=\u001b[39m \u001b[43mspec_tools\u001b[49m\u001b[38;5;241;43m.\u001b[39;49m\u001b[43mmolecule\u001b[49m\u001b[38;5;241;43m.\u001b[39;49m\u001b[43mMolecule\u001b[49m\u001b[38;5;241;43m.\u001b[39;49m\u001b[43mmol3d_to_molecule\u001b[49m\u001b[43m(\u001b[49m\u001b[38;5;124;43m\"\u001b[39;49m\u001b[38;5;124;43m7732-18-5-3d.sdf\u001b[39;49m\u001b[38;5;124;43m\"\u001b[39;49m\u001b[43m)\u001b[49m\n\u001b[1;32m      3\u001b[0m molecule\u001b[38;5;241m.\u001b[39mvisualize_molecule_mol3D()\n",
      "File \u001b[0;32m~/peak_int_python/ir_peak_int/classes/molecule.py:404\u001b[0m, in \u001b[0;36mMolecule.mol3d_to_molecule\u001b[0;34m(cls, file_path)\u001b[0m\n\u001b[1;32m    401\u001b[0m     coords\u001b[38;5;241m.\u001b[39mappend([x, y, z])\n\u001b[1;32m    403\u001b[0m \u001b[38;5;66;03m# Return coordinates atoms + mol3d\u001b[39;00m\n\u001b[0;32m--> 404\u001b[0m Molecule \u001b[38;5;241m=\u001b[39m \u001b[38;5;28;43mcls\u001b[39;49m\u001b[43m(\u001b[49m\u001b[43mname\u001b[49m\u001b[38;5;241;43m=\u001b[39;49m\u001b[38;5;124;43m\"\u001b[39;49m\u001b[38;5;124;43m3Dmol\u001b[39;49m\u001b[38;5;124;43m\"\u001b[39;49m\u001b[43m,\u001b[49m\u001b[43mcoords\u001b[49m\u001b[38;5;241;43m=\u001b[39;49m\u001b[43mcoords\u001b[49m\u001b[43m,\u001b[49m\u001b[43matoms\u001b[49m\u001b[38;5;241;43m=\u001b[39;49m\u001b[43matoms\u001b[49m\u001b[43m)\u001b[49m\n\u001b[1;32m    406\u001b[0m \u001b[38;5;28;01mwith\u001b[39;00m \u001b[38;5;28mopen\u001b[39m(file_path, \u001b[38;5;124m'\u001b[39m\u001b[38;5;124mr\u001b[39m\u001b[38;5;124m'\u001b[39m) \u001b[38;5;28;01mas\u001b[39;00m f:\n\u001b[1;32m    407\u001b[0m     file_contend \u001b[38;5;241m=\u001b[39m \u001b[38;5;124m\"\u001b[39m\u001b[38;5;124m\"\u001b[39m\n",
      "\u001b[0;31mTypeError\u001b[0m: __init__() got an unexpected keyword argument 'coords'"
     ]
    }
   ],
   "source": [
    "molecule = spec_tools.molecule.Molecule.mol3d_to_molecule(\"7732-18-5-3d.sdf\")\n",
    "\n",
    "molecule.visualize_molecule_mol3D()"
   ]
  },
  {
   "cell_type": "markdown",
   "id": "338b319f",
   "metadata": {},
   "source": [
    "# READ IN MOLDEN FILE\n",
    "\n"
   ]
  },
  {
   "cell_type": "code",
   "execution_count": null,
   "id": "b8fc59a1",
   "metadata": {},
   "outputs": [
    {
     "data": {
      "application/vnd.jupyter.widget-view+json": {
       "model_id": "cb7c737e75e141029733bb8d29aa71a9",
       "version_major": 2,
       "version_minor": 0
      },
      "text/plain": [
       "interactive(children=(Dropdown(description='Normal Mode', options=((0.0, 0), (0.0, 1), (0.0, 2), (0.0, 3), (0.…"
      ]
     },
     "metadata": {},
     "output_type": "display_data"
    }
   ],
   "source": [
    "spec_tools.molecule.show_normal_modes(\"data/h2o_dimer.molden\")"
   ]
  },
  {
   "cell_type": "code",
   "execution_count": null,
   "id": "a3d4f709",
   "metadata": {},
   "outputs": [
    {
     "name": "stdout",
     "output_type": "stream",
     "text": [
      "[(0.0, 0), (0.0, 1), (0.0, 2), (0.0, 3), (0.0, 4), (0.0, 5), (115.22, 6), (136.38, 7), (144.93, 8), (170.84, 9), (339.1, 10), (607.55, 11), (1748.61, 12), (1779.95, 13), (4099.05, 14), (4136.83, 15), (4214.42, 16), (4232.78, 17)]\n"
     ]
    }
   ],
   "source": [
    "molecule = spec_tools.molecule.Molecule.molden_to_molecule(\"data/h2o_dimer.molden\")\n"
   ]
  }
 ],
 "metadata": {
  "kernelspec": {
   "display_name": "Python 3",
   "language": "python",
   "name": "python3"
  },
  "language_info": {
   "codemirror_mode": {
    "name": "ipython",
    "version": 3
   },
   "file_extension": ".py",
   "mimetype": "text/x-python",
   "name": "python",
   "nbconvert_exporter": "python",
   "pygments_lexer": "ipython3",
   "version": "3.8.20"
  }
 },
 "nbformat": 4,
 "nbformat_minor": 5
}
