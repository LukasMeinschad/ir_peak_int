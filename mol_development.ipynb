{
 "cells": [
  {
   "cell_type": "markdown",
   "id": "7e8d6fb6",
   "metadata": {},
   "source": [
    "# Development Visualization of Molecular Structures\n"
   ]
  },
  {
   "cell_type": "code",
   "execution_count": 1,
   "id": "dcf1989e",
   "metadata": {},
   "outputs": [],
   "source": [
    "import spec_tools"
   ]
  },
  {
   "cell_type": "code",
   "execution_count": 2,
   "id": "bb2df6ac",
   "metadata": {},
   "outputs": [
    {
     "data": {
      "application/vnd.jupyter.widget-view+json": {
       "model_id": "2998f77f58f2403ab827cf29978b6232",
       "version_major": 2,
       "version_minor": 0
      },
      "text/plain": [
       "interactive(children=(Dropdown(description='Normal Mode', options=((0.0, 0), (0.0, 1), (0.0, 2), (0.0, 3), (0.…"
      ]
     },
     "metadata": {},
     "output_type": "display_data"
    }
   ],
   "source": [
    "molecule = spec_tools.molecule.Molecule.molden_to_molecule(\"data/h2o_dimer.molden\")\n",
    "molecule.visualize_normal_modes(vector=False)"
   ]
  },
  {
   "cell_type": "code",
   "execution_count": 3,
   "id": "0747669e",
   "metadata": {},
   "outputs": [
    {
     "name": "stdout",
     "output_type": "stream",
     "text": [
      "------------ Symmetry Analysis ------------\n",
      "Atoms: ['O', 'H', 'H', 'O', 'H', 'H']\n",
      "Point group: Cs\n",
      "Symmetry operations: defaultdict(<class 'set'>, {0: {0}, 3: {3}, 1: {1}, 2: {2}, 4: {4, 5}})\n",
      "----------------------------------------------\n"
     ]
    }
   ],
   "source": [
    "molecule.determine_symmetry()"
   ]
  },
  {
   "cell_type": "code",
   "execution_count": 4,
   "id": "aadfd7da",
   "metadata": {},
   "outputs": [
    {
     "name": "stdout",
     "output_type": "stream",
     "text": [
      "no normal vector found\n"
     ]
    },
    {
     "data": {
      "application/3dmoljs_load.v0": "<div id=\"3dmolviewer_17458228283547523\"  style=\"position: relative; width: 800px; height: 400px;\">\n        <p id=\"3dmolwarning_17458228283547523\" style=\"background-color:#ffcccc;color:black\">3Dmol.js failed to load for some reason.  Please check your browser console for error messages.<br></p>\n        </div>\n<script>\n\nvar loadScriptAsync = function(uri){\n  return new Promise((resolve, reject) => {\n    //this is to ignore the existence of requirejs amd\n    var savedexports, savedmodule;\n    if (typeof exports !== 'undefined') savedexports = exports;\n    else exports = {}\n    if (typeof module !== 'undefined') savedmodule = module;\n    else module = {}\n\n    var tag = document.createElement('script');\n    tag.src = uri;\n    tag.async = true;\n    tag.onload = () => {\n        exports = savedexports;\n        module = savedmodule;\n        resolve();\n    };\n  var firstScriptTag = document.getElementsByTagName('script')[0];\n  firstScriptTag.parentNode.insertBefore(tag, firstScriptTag);\n});\n};\n\nif(typeof $3Dmolpromise === 'undefined') {\n$3Dmolpromise = null;\n  $3Dmolpromise = loadScriptAsync('https://cdnjs.cloudflare.com/ajax/libs/3Dmol/2.4.2/3Dmol-min.js');\n}\n\nvar viewer_17458228283547523 = null;\nvar warn = document.getElementById(\"3dmolwarning_17458228283547523\");\nif(warn) {\n    warn.parentNode.removeChild(warn);\n}\n$3Dmolpromise.then(function() {\nviewer_17458228283547523 = $3Dmol.createViewer(document.getElementById(\"3dmolviewer_17458228283547523\"),{backgroundColor:\"white\"});\nviewer_17458228283547523.zoomTo();\n\tviewer_17458228283547523.addModel(\"6\\n\\nO 0.06249024213759341 -0.0016909998694588735 -1.5290600355625694\\nH 0.02027218894777879 -0.00588194540752371 -0.5849370139801275\\nH -0.8325240126919567 0.025199137487551784 -1.8163655731279826\\nO -0.05501102632248545 0.0014575623749934815 1.4477474408114375\\nH 0.36634821782845295 0.7448215927635353 1.843652597708079\\nH 0.3272030540073065 -0.7604339629581085 1.8481395437263093\\n\",\"xyz\");\n\tviewer_17458228283547523.setStyle({\"sphere\": {\"scale\": 0.3}, \"stick\": {\"radius\": 0.2}});\n\tviewer_17458228283547523.addCustom({\"vertexArr\": [{\"x\": 2.9989860817518963, \"y\": -0.08693243888894467, \"z\": -2.9997541953512172}, {\"x\": -2.9989860817518963, \"y\": 0.06904739843734117, \"z\": -3.000219148366906}, {\"x\": -2.9989860817518963, \"y\": 0.08693243888894467, \"z\": 2.9997541953512172}], \"normalArr\": [{\"x\": 0.9358831818186979, \"y\": 35.98767309738607, \"z\": -0.10727397477185707}, {\"x\": 0.9358831818186979, \"y\": 35.98767309738607, \"z\": -0.10727397477185707}, {\"x\": 0.9358831818186979, \"y\": 35.98767309738607, \"z\": -0.10727397477185707}], \"faceArr\": [0, 1, 2], \"color\": \"blue\", \"alpha\": 0.5});\n\tviewer_17458228283547523.addCustom({\"vertexArr\": [{\"x\": 2.9989860817518963, \"y\": -0.08693243888894467, \"z\": -2.9997541953512172}, {\"x\": -2.9989860817518963, \"y\": 0.08693243888894467, \"z\": 2.9997541953512172}, {\"x\": 2.9989860817518963, \"y\": -0.06904739843734117, \"z\": 3.000219148366906}], \"normalArr\": [{\"x\": 0.9358831818186979, \"y\": 35.98767309738607, \"z\": -0.10727397477185707}, {\"x\": 0.9358831818186979, \"y\": 35.98767309738607, \"z\": -0.10727397477185707}, {\"x\": 0.9358831818186979, \"y\": 35.98767309738607, \"z\": -0.10727397477185707}], \"faceArr\": [0, 1, 2], \"color\": \"blue\", \"alpha\": 0.5});\n\tviewer_17458228283547523.setBackgroundColor(\"white\");\nviewer_17458228283547523.render();\n});\n</script>",
      "text/html": [
       "<div id=\"3dmolviewer_17458228283547523\"  style=\"position: relative; width: 800px; height: 400px;\">\n",
       "        <p id=\"3dmolwarning_17458228283547523\" style=\"background-color:#ffcccc;color:black\">3Dmol.js failed to load for some reason.  Please check your browser console for error messages.<br></p>\n",
       "        </div>\n",
       "<script>\n",
       "\n",
       "var loadScriptAsync = function(uri){\n",
       "  return new Promise((resolve, reject) => {\n",
       "    //this is to ignore the existence of requirejs amd\n",
       "    var savedexports, savedmodule;\n",
       "    if (typeof exports !== 'undefined') savedexports = exports;\n",
       "    else exports = {}\n",
       "    if (typeof module !== 'undefined') savedmodule = module;\n",
       "    else module = {}\n",
       "\n",
       "    var tag = document.createElement('script');\n",
       "    tag.src = uri;\n",
       "    tag.async = true;\n",
       "    tag.onload = () => {\n",
       "        exports = savedexports;\n",
       "        module = savedmodule;\n",
       "        resolve();\n",
       "    };\n",
       "  var firstScriptTag = document.getElementsByTagName('script')[0];\n",
       "  firstScriptTag.parentNode.insertBefore(tag, firstScriptTag);\n",
       "});\n",
       "};\n",
       "\n",
       "if(typeof $3Dmolpromise === 'undefined') {\n",
       "$3Dmolpromise = null;\n",
       "  $3Dmolpromise = loadScriptAsync('https://cdnjs.cloudflare.com/ajax/libs/3Dmol/2.4.2/3Dmol-min.js');\n",
       "}\n",
       "\n",
       "var viewer_17458228283547523 = null;\n",
       "var warn = document.getElementById(\"3dmolwarning_17458228283547523\");\n",
       "if(warn) {\n",
       "    warn.parentNode.removeChild(warn);\n",
       "}\n",
       "$3Dmolpromise.then(function() {\n",
       "viewer_17458228283547523 = $3Dmol.createViewer(document.getElementById(\"3dmolviewer_17458228283547523\"),{backgroundColor:\"white\"});\n",
       "viewer_17458228283547523.zoomTo();\n",
       "\tviewer_17458228283547523.addModel(\"6\\n\\nO 0.06249024213759341 -0.0016909998694588735 -1.5290600355625694\\nH 0.02027218894777879 -0.00588194540752371 -0.5849370139801275\\nH -0.8325240126919567 0.025199137487551784 -1.8163655731279826\\nO -0.05501102632248545 0.0014575623749934815 1.4477474408114375\\nH 0.36634821782845295 0.7448215927635353 1.843652597708079\\nH 0.3272030540073065 -0.7604339629581085 1.8481395437263093\\n\",\"xyz\");\n",
       "\tviewer_17458228283547523.setStyle({\"sphere\": {\"scale\": 0.3}, \"stick\": {\"radius\": 0.2}});\n",
       "\tviewer_17458228283547523.addCustom({\"vertexArr\": [{\"x\": 2.9989860817518963, \"y\": -0.08693243888894467, \"z\": -2.9997541953512172}, {\"x\": -2.9989860817518963, \"y\": 0.06904739843734117, \"z\": -3.000219148366906}, {\"x\": -2.9989860817518963, \"y\": 0.08693243888894467, \"z\": 2.9997541953512172}], \"normalArr\": [{\"x\": 0.9358831818186979, \"y\": 35.98767309738607, \"z\": -0.10727397477185707}, {\"x\": 0.9358831818186979, \"y\": 35.98767309738607, \"z\": -0.10727397477185707}, {\"x\": 0.9358831818186979, \"y\": 35.98767309738607, \"z\": -0.10727397477185707}], \"faceArr\": [0, 1, 2], \"color\": \"blue\", \"alpha\": 0.5});\n",
       "\tviewer_17458228283547523.addCustom({\"vertexArr\": [{\"x\": 2.9989860817518963, \"y\": -0.08693243888894467, \"z\": -2.9997541953512172}, {\"x\": -2.9989860817518963, \"y\": 0.08693243888894467, \"z\": 2.9997541953512172}, {\"x\": 2.9989860817518963, \"y\": -0.06904739843734117, \"z\": 3.000219148366906}], \"normalArr\": [{\"x\": 0.9358831818186979, \"y\": 35.98767309738607, \"z\": -0.10727397477185707}, {\"x\": 0.9358831818186979, \"y\": 35.98767309738607, \"z\": -0.10727397477185707}, {\"x\": 0.9358831818186979, \"y\": 35.98767309738607, \"z\": -0.10727397477185707}], \"faceArr\": [0, 1, 2], \"color\": \"blue\", \"alpha\": 0.5});\n",
       "\tviewer_17458228283547523.setBackgroundColor(\"white\");\n",
       "viewer_17458228283547523.render();\n",
       "});\n",
       "</script>"
      ]
     },
     "metadata": {},
     "output_type": "display_data"
    }
   ],
   "source": [
    "molecule.visualize_molecule_3D_coords(show_symmetry_elements=True)"
   ]
  },
  {
   "cell_type": "code",
   "execution_count": 5,
   "id": "b6afe1e3",
   "metadata": {},
   "outputs": [
    {
     "ename": "TypeError",
     "evalue": "__init__() got an unexpected keyword argument 'coords'",
     "output_type": "error",
     "traceback": [
      "\u001b[0;31m---------------------------------------------------------------------------\u001b[0m",
      "\u001b[0;31mTypeError\u001b[0m                                 Traceback (most recent call last)",
      "Cell \u001b[0;32mIn[5], line 1\u001b[0m\n\u001b[0;32m----> 1\u001b[0m molecule \u001b[38;5;241m=\u001b[39m \u001b[43mspec_tools\u001b[49m\u001b[38;5;241;43m.\u001b[39;49m\u001b[43mmolecule\u001b[49m\u001b[38;5;241;43m.\u001b[39;49m\u001b[43mMolecule\u001b[49m\u001b[38;5;241;43m.\u001b[39;49m\u001b[43mmol3d_to_molecule\u001b[49m\u001b[43m(\u001b[49m\u001b[38;5;124;43m\"\u001b[39;49m\u001b[38;5;124;43m7732-18-5-3d.sdf\u001b[39;49m\u001b[38;5;124;43m\"\u001b[39;49m\u001b[43m)\u001b[49m\n\u001b[1;32m      3\u001b[0m molecule\u001b[38;5;241m.\u001b[39mvisualize_molecule_mol3D()\n",
      "File \u001b[0;32m~/peak_int_python/ir_peak_int/classes/molecule.py:404\u001b[0m, in \u001b[0;36mMolecule.mol3d_to_molecule\u001b[0;34m(cls, file_path)\u001b[0m\n\u001b[1;32m    401\u001b[0m     coords\u001b[38;5;241m.\u001b[39mappend([x, y, z])\n\u001b[1;32m    403\u001b[0m \u001b[38;5;66;03m# Return coordinates atoms + mol3d\u001b[39;00m\n\u001b[0;32m--> 404\u001b[0m Molecule \u001b[38;5;241m=\u001b[39m \u001b[38;5;28;43mcls\u001b[39;49m\u001b[43m(\u001b[49m\u001b[43mname\u001b[49m\u001b[38;5;241;43m=\u001b[39;49m\u001b[38;5;124;43m\"\u001b[39;49m\u001b[38;5;124;43m3Dmol\u001b[39;49m\u001b[38;5;124;43m\"\u001b[39;49m\u001b[43m,\u001b[49m\u001b[43mcoords\u001b[49m\u001b[38;5;241;43m=\u001b[39;49m\u001b[43mcoords\u001b[49m\u001b[43m,\u001b[49m\u001b[43matoms\u001b[49m\u001b[38;5;241;43m=\u001b[39;49m\u001b[43matoms\u001b[49m\u001b[43m)\u001b[49m\n\u001b[1;32m    406\u001b[0m \u001b[38;5;28;01mwith\u001b[39;00m \u001b[38;5;28mopen\u001b[39m(file_path, \u001b[38;5;124m'\u001b[39m\u001b[38;5;124mr\u001b[39m\u001b[38;5;124m'\u001b[39m) \u001b[38;5;28;01mas\u001b[39;00m f:\n\u001b[1;32m    407\u001b[0m     file_contend \u001b[38;5;241m=\u001b[39m \u001b[38;5;124m\"\u001b[39m\u001b[38;5;124m\"\u001b[39m\n",
      "\u001b[0;31mTypeError\u001b[0m: __init__() got an unexpected keyword argument 'coords'"
     ]
    }
   ],
   "source": [
    "molecule = spec_tools.molecule.Molecule.mol3d_to_molecule(\"7732-18-5-3d.sdf\")\n",
    "\n",
    "molecule.visualize_molecule_mol3D()"
   ]
  },
  {
   "cell_type": "markdown",
   "id": "338b319f",
   "metadata": {},
   "source": [
    "# READ IN MOLDEN FILE\n",
    "\n"
   ]
  },
  {
   "cell_type": "code",
   "execution_count": null,
   "id": "b8fc59a1",
   "metadata": {},
   "outputs": [
    {
     "data": {
      "application/vnd.jupyter.widget-view+json": {
       "model_id": "cb7c737e75e141029733bb8d29aa71a9",
       "version_major": 2,
       "version_minor": 0
      },
      "text/plain": [
       "interactive(children=(Dropdown(description='Normal Mode', options=((0.0, 0), (0.0, 1), (0.0, 2), (0.0, 3), (0.…"
      ]
     },
     "metadata": {},
     "output_type": "display_data"
    }
   ],
   "source": [
    "spec_tools.molecule.show_normal_modes(\"data/h2o_dimer.molden\")"
   ]
  },
  {
   "cell_type": "code",
   "execution_count": null,
   "id": "a3d4f709",
   "metadata": {},
   "outputs": [
    {
     "name": "stdout",
     "output_type": "stream",
     "text": [
      "[(0.0, 0), (0.0, 1), (0.0, 2), (0.0, 3), (0.0, 4), (0.0, 5), (115.22, 6), (136.38, 7), (144.93, 8), (170.84, 9), (339.1, 10), (607.55, 11), (1748.61, 12), (1779.95, 13), (4099.05, 14), (4136.83, 15), (4214.42, 16), (4232.78, 17)]\n"
     ]
    }
   ],
   "source": [
    "molecule = spec_tools.molecule.Molecule.molden_to_molecule(\"data/h2o_dimer.molden\")\n"
   ]
  }
 ],
 "metadata": {
  "kernelspec": {
   "display_name": "base",
   "language": "python",
   "name": "python3"
  },
  "language_info": {
   "codemirror_mode": {
    "name": "ipython",
    "version": 3
   },
   "file_extension": ".py",
   "mimetype": "text/x-python",
   "name": "python",
   "nbconvert_exporter": "python",
   "pygments_lexer": "ipython3",
   "version": "3.11.7"
  }
 },
 "nbformat": 4,
 "nbformat_minor": 5
}
