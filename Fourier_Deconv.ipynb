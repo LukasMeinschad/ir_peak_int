{
 "cells": [
  {
   "cell_type": "markdown",
   "metadata": {},
   "source": [
    "# Theory\n",
    "\n",
    "Given a observed signal $o(x)$ the deconvolution is used to extract a well resolved signal $s(x)$. Here a broadening function $b(x)$ is used.\n",
    "\n",
    "$o(x) = s(x) * b(x) + n(x)$"
   ]
  },
  {
   "cell_type": "markdown",
   "metadata": {},
   "source": [
    "### Convolution Theorem\n",
    "\n",
    "> Convolution of two function is the product of their Fourier transforms.\n",
    "\n",
    "Consider two Functions $u(x),v(x)$ with Fourier Transforms $U,V$\n",
    "\n",
    "$U(f) \\cong F\\{u\\}(f) = \\int_{-\\infty}^{\\infty} u(x) e^{-2\\pi i f x} dx$\n",
    "\n",
    "$V(f) \\cong F\\{v\\}(f) = \\int_{-\\infty}^{\\infty} v(x) e^{-2\\pi i f x} dx$\n",
    "\n",
    "Then the convolution is defined as\n",
    "\n",
    "$r(x) = \\{ u * v \\}(x) = \\int_{-\\infty}^{\\infty} u(\\tau) v(x- \\tau) d\\tau = \\int_{-\\infty}^\\infty u(x - \\tau) v(\\tau) d \\tau$\n",
    "\n",
    "The convolution theorem now states\n",
    "\n",
    "$R(f) \\cong F\\{r\\}(f) = U(f) V(f)$\n",
    "\n",
    "Which when applying the inverse Fourier Transform gives\n",
    "\n",
    "$r(x) = \\{ u * v \\}(x) = F^{-1}\\{U(f) V(f)\\}(x)$"
   ]
  },
  {
   "cell_type": "markdown",
   "metadata": {},
   "source": [
    "If this is applied to $o(x)$ we get\n",
    "\n",
    "$F\\{o(x)\\} = F\\{s(x) * b(x) + n(x)\\} = F\\{s(x)\\} F\\{b(x)\\} + F\\{n(x)\\}$\n",
    "\n",
    "We can obtain our desired signal $s(x)$ via\n",
    "\n",
    "$F\\{s(x)\\} = \\frac{F\\{o(x)\\} - F\\{n(x)\\}}{F\\{b(x)\\}}$\n"
   ]
  },
  {
   "cell_type": "markdown",
   "metadata": {},
   "source": [
    "### Functions that we need\n",
    "\n",
    "1. DFT $X[k] = \\sum_{n=0}^{N-1} x[n] e^{-2\\pi i k n / N}$\n",
    "2. IDFT $x_n = \\frac{1}{N} \\sum_{k=0}^{N-1} X[k] e^{2\\pi i k n / N}$\n",
    "\n",
    "A Gaussian-Lorenzian Sum of Unit area:\n",
    "\n",
    "+ m= 1 means pure Gaussian, m=0 means pure Lorentzian\n",
    "+ "
   ]
  },
  {
   "cell_type": "code",
   "execution_count": null,
   "metadata": {
    "vscode": {
     "languageId": "plaintext"
    }
   },
   "outputs": [],
   "source": []
  }
 ],
 "metadata": {
  "language_info": {
   "name": "python"
  }
 },
 "nbformat": 4,
 "nbformat_minor": 2
}
